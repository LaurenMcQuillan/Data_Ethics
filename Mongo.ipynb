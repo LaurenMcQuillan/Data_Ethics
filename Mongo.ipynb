{
 "cells": [
  {
   "cell_type": "code",
   "execution_count": 1,
   "id": "816db58f",
   "metadata": {},
   "outputs": [],
   "source": [
    "from pymongo import MongoClient\n",
    "mongo = MongoClient(port=27017)"
   ]
  },
  {
   "cell_type": "code",
   "execution_count": 2,
   "id": "4a1d90aa",
   "metadata": {},
   "outputs": [
    {
     "name": "stdout",
     "output_type": "stream",
     "text": [
      "['admin', 'config', 'local']\n"
     ]
    }
   ],
   "source": [
    "print(mongo.list_database_names())"
   ]
  },
  {
   "cell_type": "code",
   "execution_count": 3,
   "id": "272dcdb5",
   "metadata": {},
   "outputs": [],
   "source": [
    "my_first_db = mongo['my_db']"
   ]
  },
  {
   "cell_type": "code",
   "execution_count": 4,
   "id": "2562146d",
   "metadata": {},
   "outputs": [
    {
     "name": "stdout",
     "output_type": "stream",
     "text": [
      "['admin', 'config', 'local']\n"
     ]
    }
   ],
   "source": [
    "print(mongo.list_database_names())"
   ]
  },
  {
   "cell_type": "code",
   "execution_count": 5,
   "id": "a1873cba",
   "metadata": {},
   "outputs": [
    {
     "data": {
      "text/plain": [
       "[]"
      ]
     },
     "execution_count": 5,
     "metadata": {},
     "output_type": "execute_result"
    }
   ],
   "source": [
    "my_first_collection = my_first_db['my_collection']\n",
    "my_first_db.list_collection_names()"
   ]
  },
  {
   "cell_type": "code",
   "execution_count": 6,
   "id": "416a6d04",
   "metadata": {},
   "outputs": [
    {
     "data": {
      "text/plain": [
       "<pymongo.results.InsertOneResult at 0x19f94f17648>"
      ]
     },
     "execution_count": 6,
     "metadata": {},
     "output_type": "execute_result"
    }
   ],
   "source": [
    "my_first_collection.insert_one({'name': 'Mickey'})"
   ]
  },
  {
   "cell_type": "code",
   "execution_count": 7,
   "id": "1137a10a",
   "metadata": {
    "scrolled": true
   },
   "outputs": [
    {
     "name": "stdout",
     "output_type": "stream",
     "text": [
      "['admin', 'config', 'local', 'my_db']\n",
      "['my_collection']\n"
     ]
    }
   ],
   "source": [
    "print(mongo.list_database_names())\n",
    "print(my_first_db.list_collection_names())"
   ]
  },
  {
   "cell_type": "code",
   "execution_count": 8,
   "id": "defff092",
   "metadata": {},
   "outputs": [
    {
     "data": {
      "text/plain": [
       "<pymongo.results.InsertOneResult at 0x19f94f01648>"
      ]
     },
     "execution_count": 8,
     "metadata": {},
     "output_type": "execute_result"
    }
   ],
   "source": [
    "my_first_collection.insert_one({'name': 'Minnie','age': 90})"
   ]
  },
  {
   "cell_type": "code",
   "execution_count": 9,
   "id": "ab4122f6",
   "metadata": {
    "scrolled": true
   },
   "outputs": [
    {
     "name": "stdout",
     "output_type": "stream",
     "text": [
      "{'_id': ObjectId('63a0fa9f5af931e4e3f2a11e'), 'name': 'Mickey'}\n",
      "{'_id': ObjectId('63a0faa25af931e4e3f2a11f'), 'name': 'Minnie', 'age': 90}\n"
     ]
    }
   ],
   "source": [
    "results = my_first_collection.find()\n",
    "for result in results:\n",
    "    print(result)"
   ]
  },
  {
   "cell_type": "code",
   "execution_count": 10,
   "id": "3763e96a",
   "metadata": {
    "scrolled": true
   },
   "outputs": [
    {
     "name": "stdout",
     "output_type": "stream",
     "text": [
      "{'_id': ObjectId('63a0fa9f5af931e4e3f2a11e'), 'name': 'Mickey'}\n",
      "{'_id': ObjectId('63a0faa25af931e4e3f2a11f'), 'name': 'Minnie', 'age': 90}\n",
      "{'_id': 3, 'name': 'Goofy', 'age': 87, 'species': 'dog'}\n"
     ]
    }
   ],
   "source": [
    "goofy = {'_id':3, 'name': 'Goofy', 'age': 87, 'species': 'dog'}\n",
    "my_first_collection.insert_one(goofy)\n",
    "\n",
    "results = my_first_collection.find()\n",
    "for result in results:\n",
    "    print(result)"
   ]
  },
  {
   "cell_type": "code",
   "execution_count": 11,
   "id": "62c6fc66",
   "metadata": {
    "scrolled": true
   },
   "outputs": [],
   "source": [
    "query = {'name': 'Donald'}\n",
    "results = my_first_collection.find(query)\n",
    "for result in results:\n",
    "    print(result)"
   ]
  },
  {
   "cell_type": "code",
   "execution_count": 12,
   "id": "9a0c2828",
   "metadata": {
    "scrolled": true
   },
   "outputs": [
    {
     "data": {
      "text/plain": [
       "[{'_id': ObjectId('63a0faa25af931e4e3f2a11f'), 'name': 'Minnie', 'age': 90},\n",
       " {'_id': 3, 'name': 'Goofy', 'age': 87, 'species': 'dog'}]"
      ]
     },
     "execution_count": 12,
     "metadata": {},
     "output_type": "execute_result"
    }
   ],
   "source": [
    "query = {'age': {'$gt':85}}\n",
    "results = my_first_collection.find(query)\n",
    "[result for result in results]"
   ]
  },
  {
   "cell_type": "code",
   "execution_count": 13,
   "id": "506b0528",
   "metadata": {
    "scrolled": true
   },
   "outputs": [
    {
     "data": {
      "text/plain": [
       "[{'_id': ObjectId('63a0faa25af931e4e3f2a11f'), 'name': 'Minnie', 'age': 90}]"
      ]
     },
     "execution_count": 13,
     "metadata": {},
     "output_type": "execute_result"
    }
   ],
   "source": [
    "query = {'age': {'$gt':88}}\n",
    "results = my_first_collection.find(query)\n",
    "[result for result in results]"
   ]
  },
  {
   "cell_type": "code",
   "execution_count": 14,
   "id": "90968754",
   "metadata": {},
   "outputs": [
    {
     "data": {
      "text/plain": [
       "[{'_id': 3, 'name': 'Goofy', 'age': 87, 'species': 'dog'}]"
      ]
     },
     "execution_count": 14,
     "metadata": {},
     "output_type": "execute_result"
    }
   ],
   "source": [
    "query = {'age': {'$lt':88}}\n",
    "results = my_first_collection.find(query)\n",
    "[result for result in results]"
   ]
  },
  {
   "cell_type": "code",
   "execution_count": 15,
   "id": "4e78225a",
   "metadata": {
    "scrolled": true
   },
   "outputs": [
    {
     "data": {
      "text/plain": [
       "[{'_id': ObjectId('63a0fa9f5af931e4e3f2a11e'), 'name': 'Mickey Mouse'},\n",
       " {'_id': ObjectId('63a0faa25af931e4e3f2a11f'), 'name': 'Minnie', 'age': 90},\n",
       " {'_id': 3, 'name': 'Goofy', 'age': 87, 'species': 'dog'}]"
      ]
     },
     "execution_count": 15,
     "metadata": {},
     "output_type": "execute_result"
    }
   ],
   "source": [
    "query = {'name': 'Mickey'}\n",
    "update = {'$set': {'name': 'Mickey Mouse'}}\n",
    "my_first_collection.update_one(query, update)\n",
    "[r for r in my_first_collection.find()]"
   ]
  },
  {
   "cell_type": "code",
   "execution_count": 16,
   "id": "e22d3e8a",
   "metadata": {
    "scrolled": true
   },
   "outputs": [
    {
     "data": {
      "text/plain": [
       "[{'_id': ObjectId('63a0fa9f5af931e4e3f2a11e'), 'name': 'Mickey Mouse'},\n",
       " {'_id': ObjectId('63a0faa25af931e4e3f2a11f'),\n",
       "  'name': 'Minnie Mouse',\n",
       "  'age': 90},\n",
       " {'_id': 3, 'name': 'Goofy', 'age': 87, 'species': 'dog'}]"
      ]
     },
     "execution_count": 16,
     "metadata": {},
     "output_type": "execute_result"
    }
   ],
   "source": [
    "query = {'name': 'Minnie'}\n",
    "update = {'$set': {'name': 'Minnie Mouse'}}\n",
    "my_first_collection.update_one(query, update)\n",
    "[r for r in my_first_collection.find()]"
   ]
  },
  {
   "cell_type": "code",
   "execution_count": 17,
   "id": "10b87204",
   "metadata": {
    "scrolled": true
   },
   "outputs": [
    {
     "data": {
      "text/plain": [
       "[{'_id': ObjectId('63a0faa25af931e4e3f2a11f'),\n",
       "  'name': 'Minnie Mouse',\n",
       "  'age': 90},\n",
       " {'_id': 3, 'name': 'Goofy', 'age': 87, 'species': 'dog'}]"
      ]
     },
     "execution_count": 17,
     "metadata": {},
     "output_type": "execute_result"
    }
   ],
   "source": [
    "query = {'name': 'Mickey Mouse'}\n",
    "my_first_collection.delete_one(query)\n",
    "[r for r in my_first_collection.find()]"
   ]
  },
  {
   "cell_type": "code",
   "execution_count": 18,
   "id": "e79f3c43",
   "metadata": {
    "scrolled": true
   },
   "outputs": [
    {
     "data": {
      "text/plain": [
       "[{'_id': 3, 'name': 'Goofy', 'age': 87, 'species': 'dog'}]"
      ]
     },
     "execution_count": 18,
     "metadata": {},
     "output_type": "execute_result"
    }
   ],
   "source": [
    "query = {'age': {'$gt':88}}\n",
    "my_first_collection.delete_one(query)\n",
    "[r for r in my_first_collection.find()]"
   ]
  },
  {
   "cell_type": "code",
   "execution_count": 19,
   "id": "4f578ba3",
   "metadata": {
    "scrolled": true
   },
   "outputs": [
    {
     "data": {
      "text/plain": [
       "[]"
      ]
     },
     "execution_count": 19,
     "metadata": {},
     "output_type": "execute_result"
    }
   ],
   "source": [
    "query = {'_id': 3}\n",
    "my_first_collection.delete_one(query)\n",
    "[r for r in my_first_collection.find()]"
   ]
  },
  {
   "cell_type": "code",
   "execution_count": 20,
   "id": "35889f06",
   "metadata": {
    "scrolled": true
   },
   "outputs": [
    {
     "data": {
      "text/plain": [
       "[]"
      ]
     },
     "execution_count": 20,
     "metadata": {},
     "output_type": "execute_result"
    }
   ],
   "source": [
    "query = {'species': 'duck'}\n",
    "my_first_collection.delete_many(query)\n",
    "[r for r in my_first_collection.find()]"
   ]
  },
  {
   "cell_type": "code",
   "execution_count": 21,
   "id": "b678dd34",
   "metadata": {
    "scrolled": true
   },
   "outputs": [
    {
     "data": {
      "text/plain": [
       "{'nIndexesWas': 1, 'ns': 'my_db.my_collection', 'ok': 1.0}"
      ]
     },
     "execution_count": 21,
     "metadata": {},
     "output_type": "execute_result"
    }
   ],
   "source": [
    "my_first_db.drop_collection('my_collection')"
   ]
  },
  {
   "cell_type": "code",
   "execution_count": 22,
   "id": "719b8137",
   "metadata": {},
   "outputs": [
    {
     "data": {
      "text/plain": [
       "[]"
      ]
     },
     "execution_count": 22,
     "metadata": {},
     "output_type": "execute_result"
    }
   ],
   "source": [
    "my_first_db.list_collection_names()"
   ]
  },
  {
   "cell_type": "code",
   "execution_count": 23,
   "id": "cf5d5149",
   "metadata": {},
   "outputs": [],
   "source": [
    "mongo.drop_database('my_db')"
   ]
  },
  {
   "cell_type": "code",
   "execution_count": 24,
   "id": "75dcfaba",
   "metadata": {},
   "outputs": [
    {
     "data": {
      "text/plain": [
       "['admin', 'config', 'local']"
      ]
     },
     "execution_count": 24,
     "metadata": {},
     "output_type": "execute_result"
    }
   ],
   "source": [
    "mongo.list_database_names()"
   ]
  }
 ],
 "metadata": {
  "kernelspec": {
   "display_name": "Python 3 (ipykernel)",
   "language": "python",
   "name": "python3"
  },
  "language_info": {
   "codemirror_mode": {
    "name": "ipython",
    "version": 3
   },
   "file_extension": ".py",
   "mimetype": "text/x-python",
   "name": "python",
   "nbconvert_exporter": "python",
   "pygments_lexer": "ipython3",
   "version": "3.7.13"
  }
 },
 "nbformat": 4,
 "nbformat_minor": 5
}
